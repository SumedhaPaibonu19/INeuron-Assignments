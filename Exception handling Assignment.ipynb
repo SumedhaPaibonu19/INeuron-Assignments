{
 "cells": [
  {
   "cell_type": "code",
   "execution_count": 1,
   "metadata": {},
   "outputs": [
    {
     "name": "stdout",
     "output_type": "stream",
     "text": [
      "Denominator cannot be 0\n"
     ]
    }
   ],
   "source": [
    "try:\n",
    "    z=5/0\n",
    "except:\n",
    "    print(\"Denominator cannot be 0\")"
   ]
  },
  {
   "cell_type": "code",
   "execution_count": 5,
   "metadata": {},
   "outputs": [
    {
     "name": "stdout",
     "output_type": "stream",
     "text": [
      "Americans play Baseball \n",
      "Americans play cricket \n",
      "Americans watch Baseball \n",
      "Americans watch cricket \n",
      "Indians play Baseball \n",
      "Indians play cricket \n",
      "Indians watch Baseball \n",
      "Indians watch cricket \n"
     ]
    }
   ],
   "source": [
    "subjects=['Americans ','Indians ']\n",
    "verbs=['play ','watch ']\n",
    "objects=['Baseball ','cricket ']\n",
    "for i in subjects:\n",
    "    for j in verbs:\n",
    "        for k in objects:\n",
    "            print(i+j+k)"
   ]
  },
  {
   "cell_type": "code",
   "execution_count": null,
   "metadata": {},
   "outputs": [],
   "source": []
  }
 ],
 "metadata": {
  "kernelspec": {
   "display_name": "Python 3",
   "language": "python",
   "name": "python3"
  },
  "language_info": {
   "codemirror_mode": {
    "name": "ipython",
    "version": 3
   },
   "file_extension": ".py",
   "mimetype": "text/x-python",
   "name": "python",
   "nbconvert_exporter": "python",
   "pygments_lexer": "ipython3",
   "version": "3.8.3"
  }
 },
 "nbformat": 4,
 "nbformat_minor": 4
}
