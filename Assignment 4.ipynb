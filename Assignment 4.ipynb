{
 "cells": [
  {
   "cell_type": "code",
   "execution_count": 17,
   "metadata": {},
   "outputs": [
    {
     "name": "stdout",
     "output_type": "stream",
     "text": [
      "1 2 3\n",
      "1 2 3\n",
      "Area of triangle is 28.982753492378876\n"
     ]
    }
   ],
   "source": [
    "class Base:\n",
    "    def __init__(self,a,b,c):\n",
    "        self.a=a;\n",
    "        self.b=b;\n",
    "        self.c=c;\n",
    "        print(a,b,c)\n",
    "class Der(Base):\n",
    "    def __init__(self,a,b,c):\n",
    "        Base.__init__(self,a,b,c);\n",
    "        print(a,b,c)\n",
    "    def area(self):\n",
    "        s=((self.a**2+self.b**2+self.c**2)/2)\n",
    "        area=(s*(s-self.a)*(s-self.b)*(s-self.c)) ** 0.5\n",
    "        print(\"Area of triangle is\",area)\n",
    "obj1=Der(1,2,3)\n",
    "obj1.area()"
   ]
  },
  {
   "cell_type": "code",
   "execution_count": 26,
   "metadata": {},
   "outputs": [
    {
     "name": "stdout",
     "output_type": "stream",
     "text": [
      "['ineuron1', 'ineuron11', 'ineuron111']\n"
     ]
    }
   ],
   "source": [
    "def filter_long_word(l,n):\n",
    "    l1=[]\n",
    "    for i in l:\n",
    "        if(len(i)>7):\n",
    "            l1.append(i)\n",
    "    return l1\n",
    "l=['ineuron','ineuron1','ineuron11','ineuron111']\n",
    "n=8\n",
    "l2=filter_long_word(l,n)\n",
    "print(l2)"
   ]
  },
  {
   "cell_type": "code",
   "execution_count": 29,
   "metadata": {},
   "outputs": [
    {
     "name": "stdout",
     "output_type": "stream",
     "text": [
      "[1, 2, 4]\n"
     ]
    }
   ],
   "source": [
    "def lengths(l):\n",
    "    l1=[]\n",
    "    for i in l:\n",
    "        l1.append(len(i))\n",
    "    return l1\n",
    "l=['a','ab','abcd']\n",
    "l2=lengths(l)\n",
    "print(l2)"
   ]
  },
  {
   "cell_type": "code",
   "execution_count": 31,
   "metadata": {},
   "outputs": [
    {
     "name": "stdout",
     "output_type": "stream",
     "text": [
      "Enter a charactera\n",
      "It is a vowel\n"
     ]
    }
   ],
   "source": [
    "#function to check whether the character is vowel or not\n",
    "def mycheck(c):\n",
    "    vow=['a','e','i','o','u']\n",
    "    if(c in vow):\n",
    "        return True\n",
    "    else:\n",
    "        return False\n",
    "c=input(\"Enter a character\")\n",
    "if(mycheck(c)):\n",
    "    print('It is a vowel')\n",
    "else:\n",
    "    print(\"It is a consonant\")"
   ]
  },
  {
   "cell_type": "code",
   "execution_count": null,
   "metadata": {},
   "outputs": [],
   "source": []
  }
 ],
 "metadata": {
  "kernelspec": {
   "display_name": "Python 3",
   "language": "python",
   "name": "python3"
  },
  "language_info": {
   "codemirror_mode": {
    "name": "ipython",
    "version": 3
   },
   "file_extension": ".py",
   "mimetype": "text/x-python",
   "name": "python",
   "nbconvert_exporter": "python",
   "pygments_lexer": "ipython3",
   "version": "3.8.3"
  }
 },
 "nbformat": 4,
 "nbformat_minor": 4
}
